{
 "cells": [
  {
   "cell_type": "markdown",
   "id": "64e57176",
   "metadata": {
    "vscode": {
     "languageId": "plaintext"
    }
   },
   "source": [
    "### 00. PyTorch Fundamentals\n",
    "\n",
    "Timestamp: 1:14:00 - https://youtu.be/Z_ikDlimN6A?t=4440&si=0MbmtYJsTSlTceYB"
   ]
  },
  {
   "cell_type": "code",
   "execution_count": null,
   "id": "b903e43f",
   "metadata": {},
   "outputs": [],
   "source": [
    "!nvidia-smi"
   ]
  },
  {
   "cell_type": "code",
   "execution_count": null,
   "id": "84b86b09",
   "metadata": {},
   "outputs": [],
   "source": [
    "import torch\n",
    "import pandas as pd\n",
    "import numpy as np\n",
    "import matplotlib.pyplot as plt\n",
    "print(torch.__version__)"
   ]
  },
  {
   "cell_type": "markdown",
   "id": "09b4742b",
   "metadata": {},
   "source": [
    "## Introduction to Tensors\n",
    "\n",
    "### Creating tensors\n",
    "\n",
    "PyTorch tensors are creating using torch.tensor()\n",
    "\n"
   ]
  },
  {
   "cell_type": "code",
   "execution_count": null,
   "id": "4d84e268",
   "metadata": {},
   "outputs": [],
   "source": [
    "# scalar\n",
    "s = torch.tensor(7)\n",
    "s"
   ]
  },
  {
   "cell_type": "code",
   "execution_count": null,
   "id": "5bb0e18f",
   "metadata": {},
   "outputs": [],
   "source": [
    "s.ndim # Number of dimensions (scalar has zero)"
   ]
  },
  {
   "cell_type": "code",
   "execution_count": null,
   "id": "9ebed343",
   "metadata": {},
   "outputs": [],
   "source": [
    "# Get value back as python int type\n",
    "s.item()"
   ]
  },
  {
   "cell_type": "code",
   "execution_count": null,
   "id": "b529ab56",
   "metadata": {},
   "outputs": [],
   "source": [
    "# vector\n",
    "v = torch.tensor([7,7])\n",
    "v"
   ]
  },
  {
   "cell_type": "code",
   "execution_count": null,
   "id": "205e328e",
   "metadata": {},
   "outputs": [],
   "source": [
    "v.ndim # Vector has one dimension"
   ]
  },
  {
   "cell_type": "code",
   "execution_count": null,
   "id": "ce8d6cad",
   "metadata": {},
   "outputs": [],
   "source": [
    "v.shape"
   ]
  },
  {
   "cell_type": "code",
   "execution_count": null,
   "id": "7f45099c",
   "metadata": {},
   "outputs": [],
   "source": [
    "# matrix\n",
    "X = torch.tensor([\n",
    "    [5, 6],\n",
    "    [7, 8]\n",
    "])"
   ]
  },
  {
   "cell_type": "code",
   "execution_count": null,
   "id": "a84a44cf",
   "metadata": {},
   "outputs": [],
   "source": [
    "X.ndim # Matrices have two dimensions"
   ]
  },
  {
   "cell_type": "code",
   "execution_count": null,
   "id": "51a58b8e",
   "metadata": {},
   "outputs": [],
   "source": [
    "X.shape # return the size of each dimension of the tensor"
   ]
  },
  {
   "cell_type": "code",
   "execution_count": null,
   "id": "a1a0ad03",
   "metadata": {},
   "outputs": [],
   "source": [
    "X.size() # alias for .shape"
   ]
  },
  {
   "cell_type": "code",
   "execution_count": null,
   "id": "9f8650a8",
   "metadata": {},
   "outputs": [],
   "source": [
    "# Tensor\n",
    "T = torch.tensor([[\n",
    "    [1, 2, 3],\n",
    "    [4, 5, 6],\n",
    "    [7, 8, 9]\n",
    "]])"
   ]
  },
  {
   "cell_type": "code",
   "execution_count": null,
   "id": "f18af9c9",
   "metadata": {},
   "outputs": [],
   "source": [
    "T.ndim # Three dimensions (same as number of opening square brackets '[' )"
   ]
  },
  {
   "cell_type": "code",
   "execution_count": null,
   "id": "e16522d6",
   "metadata": {},
   "outputs": [],
   "source": [
    "T.size()"
   ]
  },
  {
   "cell_type": "code",
   "execution_count": null,
   "id": "6e1a10ea",
   "metadata": {},
   "outputs": [],
   "source": [
    "# indexing & slicing tensors\n",
    "T[0] # show's first dimension of tensor T"
   ]
  },
  {
   "cell_type": "code",
   "execution_count": null,
   "id": "a1d4defd",
   "metadata": {},
   "outputs": [],
   "source": [
    "# to get at the 2nd dimension-\n",
    "T[0][0]"
   ]
  },
  {
   "cell_type": "code",
   "execution_count": null,
   "id": "b2ac3d1d",
   "metadata": {},
   "outputs": [],
   "source": [
    "# or\n",
    "T[0][1]"
   ]
  },
  {
   "cell_type": "markdown",
   "id": "7e5c5b52",
   "metadata": {},
   "source": [
    "### Random tensors\n",
    "\n",
    "Why random tensors?\n",
    "\n",
    "Random tensors are important because the way in which many neural networks learn is that they start with tensors full of random numbers, and then adjust the random numbers as they 'learn'. The random numbers become adjusted to better represent the data\n",
    "\n",
    "`Start with random numbers -> Look at data -> Update random numbers -> Look at data -> Update random numbers -> ....`\n",
    "\n",
    "Pytorch docs for torch.rand - https://docs.pytorch.org/docs/stable/generated/torch.rand.html"
   ]
  },
  {
   "cell_type": "code",
   "execution_count": null,
   "id": "3de836ad",
   "metadata": {},
   "outputs": [],
   "source": [
    "# Create a random tensor of size (3, 4)\n",
    "rt = torch.rand(size=(3, 4))\n",
    "rt"
   ]
  },
  {
   "cell_type": "code",
   "execution_count": null,
   "id": "3fcb9927",
   "metadata": {},
   "outputs": [],
   "source": [
    "# Create a random tensor with similar shape to an image tensor\n",
    "t = torch.rand(size=(3, 224, 224)) # color channels, height, width"
   ]
  },
  {
   "cell_type": "code",
   "execution_count": null,
   "id": "c34e9c68",
   "metadata": {},
   "outputs": [],
   "source": [
    "t.shape, t.ndim"
   ]
  },
  {
   "cell_type": "markdown",
   "id": "edc1200b",
   "metadata": {},
   "source": [
    "### Zeros and ones"
   ]
  },
  {
   "cell_type": "code",
   "execution_count": null,
   "id": "277d6a94",
   "metadata": {},
   "outputs": [],
   "source": [
    "# Create a tensor of all zeros\n",
    "zeros = torch.zeros(size=(4, 4))\n",
    "zeros"
   ]
  },
  {
   "cell_type": "code",
   "execution_count": null,
   "id": "c2a81125",
   "metadata": {},
   "outputs": [],
   "source": [
    "# Create a tensor of all ones\n",
    "ones = torch.ones(size=(4, 4))\n",
    "ones"
   ]
  },
  {
   "cell_type": "code",
   "execution_count": null,
   "id": "66b9ab4c",
   "metadata": {},
   "outputs": [],
   "source": [
    "ones.dtype # float32 is the default dtype"
   ]
  },
  {
   "cell_type": "markdown",
   "id": "01731ae1",
   "metadata": {},
   "source": [
    "### Creating a range of tensors and tensors-like"
   ]
  },
  {
   "cell_type": "code",
   "execution_count": null,
   "id": "8d9185a1",
   "metadata": {},
   "outputs": [],
   "source": [
    "# Use torch.range\n",
    "torch.range(1,5) # Note the warning- torch.range() is deprecated."
   ]
  },
  {
   "cell_type": "code",
   "execution_count": null,
   "id": "eb825a18",
   "metadata": {},
   "outputs": [],
   "source": [
    "torch.__version__ # torch version = '2.7.0+cu126'"
   ]
  },
  {
   "cell_type": "code",
   "execution_count": null,
   "id": "dc1d174c",
   "metadata": {},
   "outputs": [],
   "source": [
    "# Instead, use torch.arange()\n",
    "t = torch.arange(0,5)\n",
    "t"
   ]
  },
  {
   "cell_type": "code",
   "execution_count": null,
   "id": "0a8c05f8",
   "metadata": {},
   "outputs": [],
   "source": [
    "t = torch.arange(start=5, end=25, step=5) # Note end is not inclusive\n",
    "t"
   ]
  },
  {
   "cell_type": "code",
   "execution_count": null,
   "id": "1acc9da5",
   "metadata": {},
   "outputs": [],
   "source": [
    "# Creating tensors-like (eg a tensor of zeros that are similar to another tensor)\n",
    "t1 = torch.arange(start=0, end=10)\n",
    "t1\n"
   ]
  },
  {
   "cell_type": "code",
   "execution_count": null,
   "id": "c953914a",
   "metadata": {},
   "outputs": [],
   "source": [
    "t2 = torch.zeros_like(t1)\n",
    "t2"
   ]
  },
  {
   "cell_type": "code",
   "execution_count": null,
   "id": "732df9b6",
   "metadata": {},
   "outputs": [],
   "source": [
    "t1.size() == t2.size() # Checking t1 and t2 are same size/shape"
   ]
  },
  {
   "cell_type": "code",
   "execution_count": null,
   "id": "da23ac1f",
   "metadata": {},
   "outputs": [],
   "source": [
    "t3 = torch.ones_like(t2)\n",
    "t3"
   ]
  },
  {
   "cell_type": "markdown",
   "id": "7930fff2",
   "metadata": {},
   "source": [
    "### Tensor dtypes\n",
    "\n",
    "**Note** tensor dtypes (mis-matches etc.) will be one of the three common errors you'll run into when using PyTorch for deep learning\n",
    "\n",
    "1. Tensors not the right dtype\n",
    "1. Tensors not the right shape\n",
    "1. Tensors not on the right device (torch.device Class)"
   ]
  },
  {
   "cell_type": "code",
   "execution_count": null,
   "id": "fa3f1b84",
   "metadata": {},
   "outputs": [],
   "source": [
    "t_float32 = torch.tensor([3.0, 6.0, 9.0], dtype=None)\n",
    "t_float32.dtype # default precision"
   ]
  },
  {
   "cell_type": "code",
   "execution_count": null,
   "id": "30c1beb4",
   "metadata": {},
   "outputs": [],
   "source": [
    "t_float16 = torch.tensor([3.0, 6.0, 9.0], dtype=torch.float16)\n",
    "t_float16.dtype # 'half'"
   ]
  },
  {
   "cell_type": "code",
   "execution_count": null,
   "id": "8aa15965",
   "metadata": {},
   "outputs": [],
   "source": [
    "t_float64 = torch.tensor([3.0, 6.0, 9.0], dtype=torch.float64)\n",
    "t_float64.dtype # 'double'"
   ]
  },
  {
   "cell_type": "code",
   "execution_count": null,
   "id": "2d419f5f",
   "metadata": {},
   "outputs": [],
   "source": [
    "# Other parameters available when creating tensors (device, requires_grad)\n",
    "\n",
    "t = torch.tensor(data=[2, 4, 6, 8, 10], # array_like : data to make the tensor\n",
    "                 dtype=torch.float32, # torch.dtype : dtype of the tensor\n",
    "                 device=None, # torch.device : e.g. \"cuda0\" or \"cpu\" - what device the tensor is on\n",
    "                 requires_grad=False) # bool : Whether to track gradients with this tensors operations\n",
    "t.dtype"
   ]
  },
  {
   "cell_type": "code",
   "execution_count": null,
   "id": "dd9ae0c3",
   "metadata": {},
   "outputs": [],
   "source": [
    "# Convert between dtypes\n",
    "\n",
    "t = t_float64.type(torch.float16)\n",
    "t.dtype"
   ]
  },
  {
   "cell_type": "code",
   "execution_count": null,
   "id": "1696ddb9",
   "metadata": {},
   "outputs": [],
   "source": [
    "t2 = t_float64.type_as(t)\n",
    "t2.dtype"
   ]
  },
  {
   "cell_type": "markdown",
   "id": "f5f380e7",
   "metadata": {},
   "source": [
    "### Getting information from tensors\n",
    "\n",
    "* dtype - to get the dtype of a tensor object `t`, use `t.dtype`\n",
    "* shape - to get the shape of a tensor objecct `t`, use `t.shape` or `t.size()`\n",
    "* device - to get the device the tensor `t` is on, use `t.device`\n"
   ]
  },
  {
   "cell_type": "code",
   "execution_count": null,
   "id": "b767dd0a",
   "metadata": {},
   "outputs": [],
   "source": [
    "t = torch.rand(3, 4)\n",
    "t"
   ]
  },
  {
   "cell_type": "code",
   "execution_count": null,
   "id": "ad34350e",
   "metadata": {},
   "outputs": [],
   "source": [
    "# Find out details about tensor (tensor attributes)\n",
    "print(f\"Tensor t: {t}\")\n",
    "print(\"\")\n",
    "print(\"Tensor Attributes:\")\n",
    "print(f\"dtype of tensor t: {t.dtype}\")\n",
    "print(f\"shape of tensor t: {t.shape}\")\n",
    "print(f\"device of tensor t: {t.device}\")"
   ]
  },
  {
   "cell_type": "markdown",
   "id": "7fb5ef3a",
   "metadata": {},
   "source": [
    "### Manipulating tensors\n",
    "\n",
    "Tensor operations include:\n",
    "* Addition\n",
    "* Subtraction\n",
    "* Multiplication (element-wise)\n",
    "* Division\n",
    "* Matrix multiplication"
   ]
  },
  {
   "cell_type": "code",
   "execution_count": null,
   "id": "4bb0b60d",
   "metadata": {},
   "outputs": [],
   "source": [
    "## Addition\n",
    "\n",
    "t = torch.tensor([1,2,3])\n",
    "print(f\"Tensor t: {t}\")\n",
    "print(f\"+10:  {t + 10}\")\n",
    "print(f\"+100: {t + 100}\")\n",
    "print(f\"+10:  {t.add(10)}\")\n",
    "print(f\"+100: {t.add(100)}\")"
   ]
  },
  {
   "cell_type": "code",
   "execution_count": null,
   "id": "de18b815",
   "metadata": {},
   "outputs": [],
   "source": [
    "# Subtraction\n",
    "t = torch.tensor([4, 6, 8])\n",
    "print(f\"Tensor t: {t}\")\n",
    "print(f\"-2: {t - 2}\")\n",
    "print(f\"-4: {t - 4}\")\n",
    "\n",
    "print(f\"-2: {t.sub(-2)}\")\n",
    "print(f\"-4: {t.sub(-4)}\")"
   ]
  },
  {
   "cell_type": "code",
   "execution_count": null,
   "id": "993f8931",
   "metadata": {},
   "outputs": [],
   "source": [
    "# Multiplication (elementwise)\n",
    "\n",
    "# Subtraction\n",
    "t = torch.tensor([10, 20, 30])\n",
    "print(f\"Tensor t: {t}\")\n",
    "print(f\"multiply by 5: {t * 5}\")\n",
    "print(f\"multiply by 5: {t.mul(5)}\")"
   ]
  },
  {
   "cell_type": "code",
   "execution_count": null,
   "id": "82590679",
   "metadata": {},
   "outputs": [],
   "source": []
  },
  {
   "cell_type": "code",
   "execution_count": null,
   "id": "cd01580f",
   "metadata": {},
   "outputs": [],
   "source": []
  },
  {
   "cell_type": "code",
   "execution_count": null,
   "id": "4846d1c4",
   "metadata": {},
   "outputs": [],
   "source": []
  },
  {
   "cell_type": "code",
   "execution_count": null,
   "id": "8c7049b0",
   "metadata": {},
   "outputs": [],
   "source": []
  },
  {
   "cell_type": "code",
   "execution_count": null,
   "id": "c06311bd",
   "metadata": {},
   "outputs": [],
   "source": []
  }
 ],
 "metadata": {
  "kernelspec": {
   "display_name": ".venv",
   "language": "python",
   "name": "python3"
  },
  "language_info": {
   "codemirror_mode": {
    "name": "ipython",
    "version": 3
   },
   "file_extension": ".py",
   "mimetype": "text/x-python",
   "name": "python",
   "nbconvert_exporter": "python",
   "pygments_lexer": "ipython3",
   "version": "3.12.10"
  }
 },
 "nbformat": 4,
 "nbformat_minor": 5
}
