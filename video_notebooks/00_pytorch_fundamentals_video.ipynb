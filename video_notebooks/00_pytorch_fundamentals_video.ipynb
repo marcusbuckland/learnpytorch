{
 "cells": [
  {
   "cell_type": "markdown",
   "id": "64e57176",
   "metadata": {
    "vscode": {
     "languageId": "plaintext"
    }
   },
   "source": [
    "### 00. PyTorch Fundamentals\n",
    "\n",
    "Timestamp: 1:14:00 - https://youtu.be/Z_ikDlimN6A?t=4440&si=0MbmtYJsTSlTceYB"
   ]
  },
  {
   "cell_type": "code",
   "execution_count": 1,
   "id": "b903e43f",
   "metadata": {},
   "outputs": [
    {
     "name": "stdout",
     "output_type": "stream",
     "text": [
      "Mon Jun  2 14:19:05 2025       \n",
      "+-----------------------------------------------------------------------------------------+\n",
      "| NVIDIA-SMI 576.02                 Driver Version: 576.02         CUDA Version: 12.9     |\n",
      "|-----------------------------------------+------------------------+----------------------+\n",
      "| GPU  Name                  Driver-Model | Bus-Id          Disp.A | Volatile Uncorr. ECC |\n",
      "| Fan  Temp   Perf          Pwr:Usage/Cap |           Memory-Usage | GPU-Util  Compute M. |\n",
      "|                                         |                        |               MIG M. |\n",
      "|=========================================+========================+======================|\n",
      "|   0  NVIDIA GeForce GTX 1650      WDDM  |   00000000:01:00.0 Off |                  N/A |\n",
      "| N/A   55C    P8              5W /   50W |       0MiB /   4096MiB |      0%      Default |\n",
      "|                                         |                        |                  N/A |\n",
      "+-----------------------------------------+------------------------+----------------------+\n",
      "                                                                                         \n",
      "+-----------------------------------------------------------------------------------------+\n",
      "| Processes:                                                                              |\n",
      "|  GPU   GI   CI              PID   Type   Process name                        GPU Memory |\n",
      "|        ID   ID                                                               Usage      |\n",
      "|=========================================================================================|\n",
      "|  No running processes found                                                             |\n",
      "+-----------------------------------------------------------------------------------------+\n"
     ]
    }
   ],
   "source": [
    "!nvidia-smi"
   ]
  },
  {
   "cell_type": "code",
   "execution_count": 2,
   "id": "84b86b09",
   "metadata": {},
   "outputs": [
    {
     "name": "stdout",
     "output_type": "stream",
     "text": [
      "2.7.0+cu126\n"
     ]
    }
   ],
   "source": [
    "import torch\n",
    "import pandas as pd\n",
    "import numpy as np\n",
    "import matplotlib.pyplot as plt\n",
    "print(torch.__version__)"
   ]
  },
  {
   "cell_type": "markdown",
   "id": "09b4742b",
   "metadata": {},
   "source": [
    "## Introduction to Tensors\n",
    "\n",
    "### Creating tensors\n",
    "\n",
    "PyTorch tensors are creating using torch.tensor()\n",
    "\n"
   ]
  },
  {
   "cell_type": "code",
   "execution_count": 3,
   "id": "4d84e268",
   "metadata": {},
   "outputs": [
    {
     "data": {
      "text/plain": [
       "tensor(7)"
      ]
     },
     "execution_count": 3,
     "metadata": {},
     "output_type": "execute_result"
    }
   ],
   "source": [
    "# scalar\n",
    "s = torch.tensor(7)\n",
    "s"
   ]
  },
  {
   "cell_type": "code",
   "execution_count": 4,
   "id": "5bb0e18f",
   "metadata": {},
   "outputs": [
    {
     "data": {
      "text/plain": [
       "0"
      ]
     },
     "execution_count": 4,
     "metadata": {},
     "output_type": "execute_result"
    }
   ],
   "source": [
    "s.ndim # Number of dimensions (scalar has zero)"
   ]
  },
  {
   "cell_type": "code",
   "execution_count": 5,
   "id": "9ebed343",
   "metadata": {},
   "outputs": [
    {
     "data": {
      "text/plain": [
       "7"
      ]
     },
     "execution_count": 5,
     "metadata": {},
     "output_type": "execute_result"
    }
   ],
   "source": [
    "# Get value back as python int type\n",
    "s.item()"
   ]
  },
  {
   "cell_type": "code",
   "execution_count": 6,
   "id": "b529ab56",
   "metadata": {},
   "outputs": [
    {
     "data": {
      "text/plain": [
       "tensor([7, 7])"
      ]
     },
     "execution_count": 6,
     "metadata": {},
     "output_type": "execute_result"
    }
   ],
   "source": [
    "# vector\n",
    "v = torch.tensor([7,7])\n",
    "v"
   ]
  },
  {
   "cell_type": "code",
   "execution_count": 7,
   "id": "205e328e",
   "metadata": {},
   "outputs": [
    {
     "data": {
      "text/plain": [
       "1"
      ]
     },
     "execution_count": 7,
     "metadata": {},
     "output_type": "execute_result"
    }
   ],
   "source": [
    "v.ndim # Vector has one dimension"
   ]
  },
  {
   "cell_type": "code",
   "execution_count": 8,
   "id": "ce8d6cad",
   "metadata": {},
   "outputs": [
    {
     "data": {
      "text/plain": [
       "torch.Size([2])"
      ]
     },
     "execution_count": 8,
     "metadata": {},
     "output_type": "execute_result"
    }
   ],
   "source": [
    "v.shape"
   ]
  },
  {
   "cell_type": "code",
   "execution_count": 9,
   "id": "7f45099c",
   "metadata": {},
   "outputs": [],
   "source": [
    "# matrix\n",
    "X = torch.tensor([\n",
    "    [5, 6],\n",
    "    [7, 8]\n",
    "])"
   ]
  },
  {
   "cell_type": "code",
   "execution_count": 10,
   "id": "a84a44cf",
   "metadata": {},
   "outputs": [
    {
     "data": {
      "text/plain": [
       "2"
      ]
     },
     "execution_count": 10,
     "metadata": {},
     "output_type": "execute_result"
    }
   ],
   "source": [
    "X.ndim # Matrices have two dimensions"
   ]
  },
  {
   "cell_type": "code",
   "execution_count": 11,
   "id": "51a58b8e",
   "metadata": {},
   "outputs": [
    {
     "data": {
      "text/plain": [
       "torch.Size([2, 2])"
      ]
     },
     "execution_count": 11,
     "metadata": {},
     "output_type": "execute_result"
    }
   ],
   "source": [
    "X.shape # return the size of each dimension of the tensor"
   ]
  },
  {
   "cell_type": "code",
   "execution_count": 12,
   "id": "a1a0ad03",
   "metadata": {},
   "outputs": [
    {
     "data": {
      "text/plain": [
       "torch.Size([2, 2])"
      ]
     },
     "execution_count": 12,
     "metadata": {},
     "output_type": "execute_result"
    }
   ],
   "source": [
    "X.size() # alias for .shape"
   ]
  },
  {
   "cell_type": "code",
   "execution_count": 13,
   "id": "9f8650a8",
   "metadata": {},
   "outputs": [],
   "source": [
    "# Tensor\n",
    "T = torch.tensor([[\n",
    "    [1, 2, 3],\n",
    "    [4, 5, 6],\n",
    "    [7, 8, 9]\n",
    "]])"
   ]
  },
  {
   "cell_type": "code",
   "execution_count": 14,
   "id": "f18af9c9",
   "metadata": {},
   "outputs": [
    {
     "data": {
      "text/plain": [
       "3"
      ]
     },
     "execution_count": 14,
     "metadata": {},
     "output_type": "execute_result"
    }
   ],
   "source": [
    "T.ndim # Three dimensions (same as number of opening square brackets '[' )"
   ]
  },
  {
   "cell_type": "code",
   "execution_count": 15,
   "id": "e16522d6",
   "metadata": {},
   "outputs": [
    {
     "data": {
      "text/plain": [
       "torch.Size([1, 3, 3])"
      ]
     },
     "execution_count": 15,
     "metadata": {},
     "output_type": "execute_result"
    }
   ],
   "source": [
    "T.size()"
   ]
  },
  {
   "cell_type": "code",
   "execution_count": 16,
   "id": "6e1a10ea",
   "metadata": {},
   "outputs": [
    {
     "data": {
      "text/plain": [
       "tensor([[1, 2, 3],\n",
       "        [4, 5, 6],\n",
       "        [7, 8, 9]])"
      ]
     },
     "execution_count": 16,
     "metadata": {},
     "output_type": "execute_result"
    }
   ],
   "source": [
    "# indexing & slicing tensors\n",
    "T[0] # show's first dimension of tensor T"
   ]
  },
  {
   "cell_type": "code",
   "execution_count": 17,
   "id": "a1d4defd",
   "metadata": {},
   "outputs": [
    {
     "data": {
      "text/plain": [
       "tensor([1, 2, 3])"
      ]
     },
     "execution_count": 17,
     "metadata": {},
     "output_type": "execute_result"
    }
   ],
   "source": [
    "# to get at the 2nd dimension-\n",
    "T[0][0]"
   ]
  },
  {
   "cell_type": "code",
   "execution_count": 18,
   "id": "b2ac3d1d",
   "metadata": {},
   "outputs": [
    {
     "data": {
      "text/plain": [
       "tensor([4, 5, 6])"
      ]
     },
     "execution_count": 18,
     "metadata": {},
     "output_type": "execute_result"
    }
   ],
   "source": [
    "# or\n",
    "T[0][1]"
   ]
  },
  {
   "cell_type": "markdown",
   "id": "7e5c5b52",
   "metadata": {},
   "source": [
    "### Random tensors\n",
    "\n",
    "Why random tensors?\n",
    "\n",
    "Random tensors are important because the way in which many neural networks learn is that they start with tensors full of random numbers, and then adjust the random numbers as they 'learn'. The random numbers become adjusted to better represent the data\n",
    "\n",
    "`Start with random numbers -> Look at data -> Update random numbers -> Look at data -> Update random numbers -> ....`\n",
    "\n",
    "Pytorch docs for torch.rand - https://docs.pytorch.org/docs/stable/generated/torch.rand.html"
   ]
  },
  {
   "cell_type": "code",
   "execution_count": 19,
   "id": "3de836ad",
   "metadata": {},
   "outputs": [
    {
     "data": {
      "text/plain": [
       "tensor([[0.9579, 0.4746, 0.2607, 0.7167],\n",
       "        [0.0911, 0.7781, 0.1477, 0.6523],\n",
       "        [0.7048, 0.2786, 0.7484, 0.1239]])"
      ]
     },
     "execution_count": 19,
     "metadata": {},
     "output_type": "execute_result"
    }
   ],
   "source": [
    "# Create a random tensor of size (3, 4)\n",
    "rt = torch.rand(size=(3, 4))\n",
    "rt"
   ]
  },
  {
   "cell_type": "code",
   "execution_count": 20,
   "id": "3fcb9927",
   "metadata": {},
   "outputs": [],
   "source": [
    "# Create a random tensor with similar shape to an image tensor\n",
    "t = torch.rand(size=(3, 224, 224)) # color channels, height, width"
   ]
  },
  {
   "cell_type": "code",
   "execution_count": 21,
   "id": "c34e9c68",
   "metadata": {},
   "outputs": [
    {
     "data": {
      "text/plain": [
       "(torch.Size([3, 224, 224]), 3)"
      ]
     },
     "execution_count": 21,
     "metadata": {},
     "output_type": "execute_result"
    }
   ],
   "source": [
    "t.shape, t.ndim"
   ]
  },
  {
   "cell_type": "markdown",
   "id": "edc1200b",
   "metadata": {},
   "source": [
    "### Zeros and ones"
   ]
  },
  {
   "cell_type": "code",
   "execution_count": 22,
   "id": "277d6a94",
   "metadata": {},
   "outputs": [
    {
     "data": {
      "text/plain": [
       "tensor([[0., 0., 0., 0.],\n",
       "        [0., 0., 0., 0.],\n",
       "        [0., 0., 0., 0.],\n",
       "        [0., 0., 0., 0.]])"
      ]
     },
     "execution_count": 22,
     "metadata": {},
     "output_type": "execute_result"
    }
   ],
   "source": [
    "# Create a tensor of all zeros\n",
    "zeros = torch.zeros(size=(4, 4))\n",
    "zeros"
   ]
  },
  {
   "cell_type": "code",
   "execution_count": 23,
   "id": "c2a81125",
   "metadata": {},
   "outputs": [
    {
     "data": {
      "text/plain": [
       "tensor([[1., 1., 1., 1.],\n",
       "        [1., 1., 1., 1.],\n",
       "        [1., 1., 1., 1.],\n",
       "        [1., 1., 1., 1.]])"
      ]
     },
     "execution_count": 23,
     "metadata": {},
     "output_type": "execute_result"
    }
   ],
   "source": [
    "# Create a tensor of all ones\n",
    "ones = torch.ones(size=(4, 4))\n",
    "ones"
   ]
  },
  {
   "cell_type": "code",
   "execution_count": 24,
   "id": "66b9ab4c",
   "metadata": {},
   "outputs": [
    {
     "data": {
      "text/plain": [
       "torch.float32"
      ]
     },
     "execution_count": 24,
     "metadata": {},
     "output_type": "execute_result"
    }
   ],
   "source": [
    "ones.dtype # float32 is the default dtype"
   ]
  },
  {
   "cell_type": "markdown",
   "id": "01731ae1",
   "metadata": {},
   "source": [
    "### Creating a range of tensors and tensors-like"
   ]
  },
  {
   "cell_type": "code",
   "execution_count": 25,
   "id": "8d9185a1",
   "metadata": {},
   "outputs": [
    {
     "name": "stderr",
     "output_type": "stream",
     "text": [
      "C:\\Users\\alrea\\AppData\\Local\\Temp\\ipykernel_9232\\2555059529.py:2: UserWarning: torch.range is deprecated and will be removed in a future release because its behavior is inconsistent with Python's range builtin. Instead, use torch.arange, which produces values in [start, end).\n",
      "  torch.range(1,5) # Note the warning- torch.range() is deprecated.\n"
     ]
    },
    {
     "data": {
      "text/plain": [
       "tensor([1., 2., 3., 4., 5.])"
      ]
     },
     "execution_count": 25,
     "metadata": {},
     "output_type": "execute_result"
    }
   ],
   "source": [
    "# Use torch.range\n",
    "torch.range(1,5) # Note the warning- torch.range() is deprecated."
   ]
  },
  {
   "cell_type": "code",
   "execution_count": 26,
   "id": "eb825a18",
   "metadata": {},
   "outputs": [
    {
     "data": {
      "text/plain": [
       "'2.7.0+cu126'"
      ]
     },
     "execution_count": 26,
     "metadata": {},
     "output_type": "execute_result"
    }
   ],
   "source": [
    "torch.__version__ # torch version = '2.7.0+cu126'"
   ]
  },
  {
   "cell_type": "code",
   "execution_count": 27,
   "id": "dc1d174c",
   "metadata": {},
   "outputs": [
    {
     "data": {
      "text/plain": [
       "tensor([0, 1, 2, 3, 4])"
      ]
     },
     "execution_count": 27,
     "metadata": {},
     "output_type": "execute_result"
    }
   ],
   "source": [
    "# Instead, use torch.arange()\n",
    "t = torch.arange(0,5)\n",
    "t"
   ]
  },
  {
   "cell_type": "code",
   "execution_count": 28,
   "id": "0a8c05f8",
   "metadata": {},
   "outputs": [
    {
     "data": {
      "text/plain": [
       "tensor([ 5, 10, 15, 20])"
      ]
     },
     "execution_count": 28,
     "metadata": {},
     "output_type": "execute_result"
    }
   ],
   "source": [
    "t = torch.arange(start=5, end=25, step=5) # Note end is not inclusive\n",
    "t"
   ]
  },
  {
   "cell_type": "code",
   "execution_count": 29,
   "id": "1acc9da5",
   "metadata": {},
   "outputs": [
    {
     "data": {
      "text/plain": [
       "tensor([0, 1, 2, 3, 4, 5, 6, 7, 8, 9])"
      ]
     },
     "execution_count": 29,
     "metadata": {},
     "output_type": "execute_result"
    }
   ],
   "source": [
    "# Creating tensors-like (eg a tensor of zeros that are similar to another tensor)\n",
    "t1 = torch.arange(start=0, end=10)\n",
    "t1\n"
   ]
  },
  {
   "cell_type": "code",
   "execution_count": 30,
   "id": "c953914a",
   "metadata": {},
   "outputs": [
    {
     "data": {
      "text/plain": [
       "tensor([0, 0, 0, 0, 0, 0, 0, 0, 0, 0])"
      ]
     },
     "execution_count": 30,
     "metadata": {},
     "output_type": "execute_result"
    }
   ],
   "source": [
    "t2 = torch.zeros_like(t1)\n",
    "t2"
   ]
  },
  {
   "cell_type": "code",
   "execution_count": 31,
   "id": "732df9b6",
   "metadata": {},
   "outputs": [
    {
     "data": {
      "text/plain": [
       "True"
      ]
     },
     "execution_count": 31,
     "metadata": {},
     "output_type": "execute_result"
    }
   ],
   "source": [
    "t1.size() == t2.size() # Checking t1 and t2 are same size/shape"
   ]
  },
  {
   "cell_type": "code",
   "execution_count": 32,
   "id": "da23ac1f",
   "metadata": {},
   "outputs": [
    {
     "data": {
      "text/plain": [
       "tensor([1, 1, 1, 1, 1, 1, 1, 1, 1, 1])"
      ]
     },
     "execution_count": 32,
     "metadata": {},
     "output_type": "execute_result"
    }
   ],
   "source": [
    "t3 = torch.ones_like(t2)\n",
    "t3"
   ]
  },
  {
   "cell_type": "markdown",
   "id": "7930fff2",
   "metadata": {},
   "source": [
    "### Tensor dtypes\n",
    "\n",
    "**Note** tensor dtypes (mis-matches etc.) will be one of the three common errors you'll run into when using PyTorch for deep learning\n",
    "\n",
    "1. Tensors not the right dtype\n",
    "1. Tensors not the right shape\n",
    "1. Tensors not on the right device (torch.device Class)"
   ]
  },
  {
   "cell_type": "code",
   "execution_count": 33,
   "id": "fa3f1b84",
   "metadata": {},
   "outputs": [
    {
     "data": {
      "text/plain": [
       "torch.float32"
      ]
     },
     "execution_count": 33,
     "metadata": {},
     "output_type": "execute_result"
    }
   ],
   "source": [
    "t_float32 = torch.tensor([3.0, 6.0, 9.0], dtype=None)\n",
    "t_float32.dtype # default precision"
   ]
  },
  {
   "cell_type": "code",
   "execution_count": 34,
   "id": "30c1beb4",
   "metadata": {},
   "outputs": [
    {
     "data": {
      "text/plain": [
       "torch.float16"
      ]
     },
     "execution_count": 34,
     "metadata": {},
     "output_type": "execute_result"
    }
   ],
   "source": [
    "t_float16 = torch.tensor([3.0, 6.0, 9.0], dtype=torch.float16)\n",
    "t_float16.dtype # 'half'"
   ]
  },
  {
   "cell_type": "code",
   "execution_count": 35,
   "id": "8aa15965",
   "metadata": {},
   "outputs": [
    {
     "data": {
      "text/plain": [
       "torch.float64"
      ]
     },
     "execution_count": 35,
     "metadata": {},
     "output_type": "execute_result"
    }
   ],
   "source": [
    "t_float64 = torch.tensor([3.0, 6.0, 9.0], dtype=torch.float64)\n",
    "t_float64.dtype # 'double'"
   ]
  },
  {
   "cell_type": "code",
   "execution_count": 36,
   "id": "2d419f5f",
   "metadata": {},
   "outputs": [
    {
     "data": {
      "text/plain": [
       "torch.float32"
      ]
     },
     "execution_count": 36,
     "metadata": {},
     "output_type": "execute_result"
    }
   ],
   "source": [
    "# Other parameters available when creating tensors (device, requires_grad)\n",
    "\n",
    "t = torch.tensor(data=[2, 4, 6, 8, 10], # array_like : data to make the tensor\n",
    "                 dtype=torch.float32, # torch.dtype : dtype of the tensor\n",
    "                 device=None, # torch.device : e.g. \"cuda0\" or \"cpu\" - what device the tensor is on\n",
    "                 requires_grad=False) # bool : Whether to track gradients with this tensors operations\n",
    "t.dtype"
   ]
  },
  {
   "cell_type": "code",
   "execution_count": 37,
   "id": "dd9ae0c3",
   "metadata": {},
   "outputs": [
    {
     "data": {
      "text/plain": [
       "torch.float16"
      ]
     },
     "execution_count": 37,
     "metadata": {},
     "output_type": "execute_result"
    }
   ],
   "source": [
    "# Convert between dtypes\n",
    "\n",
    "t = t_float64.type(torch.float16)\n",
    "t.dtype"
   ]
  },
  {
   "cell_type": "code",
   "execution_count": 38,
   "id": "1696ddb9",
   "metadata": {},
   "outputs": [
    {
     "data": {
      "text/plain": [
       "torch.float16"
      ]
     },
     "execution_count": 38,
     "metadata": {},
     "output_type": "execute_result"
    }
   ],
   "source": [
    "t2 = t_float64.type_as(t)\n",
    "t2.dtype"
   ]
  },
  {
   "cell_type": "markdown",
   "id": "f5f380e7",
   "metadata": {},
   "source": [
    "### Getting information from tensors\n",
    "\n",
    "* dtype - to get the dtype of a tensor object `t`, use `t.dtype`\n",
    "* shape - to get the shape of a tensor objecct `t`, use `t.shape` or `t.size()`\n",
    "* device - to get the device the tensor `t` is on, use `t.device`\n"
   ]
  },
  {
   "cell_type": "code",
   "execution_count": 39,
   "id": "b767dd0a",
   "metadata": {},
   "outputs": [
    {
     "data": {
      "text/plain": [
       "tensor([[0.4761, 0.6153, 0.4220, 0.5698],\n",
       "        [0.8659, 0.3824, 0.5756, 0.4927],\n",
       "        [0.4071, 0.6443, 0.1410, 0.2044]])"
      ]
     },
     "execution_count": 39,
     "metadata": {},
     "output_type": "execute_result"
    }
   ],
   "source": [
    "t = torch.rand(3, 4)\n",
    "t"
   ]
  },
  {
   "cell_type": "code",
   "execution_count": 40,
   "id": "ad34350e",
   "metadata": {},
   "outputs": [
    {
     "name": "stdout",
     "output_type": "stream",
     "text": [
      "Tensor t: tensor([[0.4761, 0.6153, 0.4220, 0.5698],\n",
      "        [0.8659, 0.3824, 0.5756, 0.4927],\n",
      "        [0.4071, 0.6443, 0.1410, 0.2044]])\n",
      "\n",
      "Tensor Attributes:\n",
      "dtype of tensor t: torch.float32\n",
      "shape of tensor t: torch.Size([3, 4])\n",
      "device of tensor t: cpu\n"
     ]
    }
   ],
   "source": [
    "# Find out details about tensor (tensor attributes)\n",
    "print(f\"Tensor t: {t}\")\n",
    "print(\"\")\n",
    "print(\"Tensor Attributes:\")\n",
    "print(f\"dtype of tensor t: {t.dtype}\")\n",
    "print(f\"shape of tensor t: {t.shape}\")\n",
    "print(f\"device of tensor t: {t.device}\")"
   ]
  },
  {
   "cell_type": "markdown",
   "id": "7fb5ef3a",
   "metadata": {},
   "source": [
    "### Manipulating tensors\n",
    "\n",
    "Tensor operations include:\n",
    "* Addition\n",
    "* Subtraction\n",
    "* Multiplication (element-wise)\n",
    "* Division\n",
    "* Matrix multiplication"
   ]
  },
  {
   "cell_type": "code",
   "execution_count": 41,
   "id": "4bb0b60d",
   "metadata": {},
   "outputs": [
    {
     "name": "stdout",
     "output_type": "stream",
     "text": [
      "Tensor t: tensor([1, 2, 3])\n",
      "+10:  tensor([11, 12, 13])\n",
      "+100: tensor([101, 102, 103])\n",
      "+10:  tensor([11, 12, 13])\n",
      "+100: tensor([101, 102, 103])\n"
     ]
    }
   ],
   "source": [
    "## Addition\n",
    "\n",
    "t = torch.tensor([1,2,3])\n",
    "print(f\"Tensor t: {t}\")\n",
    "print(f\"+10:  {t + 10}\")\n",
    "print(f\"+100: {t + 100}\")\n",
    "print(f\"+10:  {t.add(10)}\")\n",
    "print(f\"+100: {t.add(100)}\")"
   ]
  },
  {
   "cell_type": "code",
   "execution_count": 42,
   "id": "de18b815",
   "metadata": {},
   "outputs": [
    {
     "name": "stdout",
     "output_type": "stream",
     "text": [
      "Tensor t: tensor([4, 6, 8])\n",
      "-2: tensor([2, 4, 6])\n",
      "-4: tensor([0, 2, 4])\n",
      "-2: tensor([ 6,  8, 10])\n",
      "-4: tensor([ 8, 10, 12])\n"
     ]
    }
   ],
   "source": [
    "# Subtraction\n",
    "t = torch.tensor([4, 6, 8])\n",
    "print(f\"Tensor t: {t}\")\n",
    "print(f\"-2: {t - 2}\")\n",
    "print(f\"-4: {t - 4}\")\n",
    "\n",
    "print(f\"-2: {t.sub(-2)}\")\n",
    "print(f\"-4: {t.sub(-4)}\")"
   ]
  },
  {
   "cell_type": "code",
   "execution_count": 43,
   "id": "993f8931",
   "metadata": {},
   "outputs": [
    {
     "name": "stdout",
     "output_type": "stream",
     "text": [
      "Tensor t: tensor([10, 20, 30])\n",
      "multiply by 5: tensor([ 50, 100, 150])\n",
      "multiply by 5: tensor([ 50, 100, 150])\n"
     ]
    }
   ],
   "source": [
    "# Multiplication (elementwise)\n",
    "\n",
    "# Subtraction\n",
    "t = torch.tensor([10, 20, 30])\n",
    "print(f\"Tensor t: {t}\")\n",
    "print(f\"multiply by 5: {t * 5}\")\n",
    "print(f\"multiply by 5: {t.mul(5)}\")"
   ]
  },
  {
   "cell_type": "markdown",
   "id": "1ff3e958",
   "metadata": {},
   "source": [
    "### Matrix multiplication\n",
    "\n",
    "Two main ways of performing multiplication in neural networks and deep learning\n",
    "\n",
    "1. Elementwise multiplication\n",
    "1. Matrix multiplication (most common in nn's)\n",
    "\n",
    "More information on multiplying matrices: https://www.mathsisfun.com/algebra/matrix-multiplying.html\n",
    "\n",
    "There are two main rules that performing matrix multiplcation needs to satisfy:\n",
    "\n",
    "1. The inner dimensions must match:\n",
    "* `(3, 2) @ (2, 3)` - works! 2=2. Result is tensor of shape (3, 3)\n",
    "* `(2, 3) @ (2, 3)` - won't work! 3 != 2\n",
    "* `(2, 3) @ (3, 2)` - works! 3=3. Result is tensor of shape (2, 2)"
   ]
  },
  {
   "cell_type": "code",
   "execution_count": 44,
   "id": "82590679",
   "metadata": {},
   "outputs": [
    {
     "name": "stdout",
     "output_type": "stream",
     "text": [
      "Tensor t: tensor([1, 2, 3])\n",
      "t * t: tensor([1, 4, 9])\n",
      "t * t: tensor([1, 4, 9])\n",
      "t * t: tensor([1, 4, 9])\n"
     ]
    }
   ],
   "source": [
    "## Element wise multiplication\n",
    "t = torch.tensor([1,2,3])\n",
    "print(f\"Tensor t: {t}\")\n",
    "print(f\"t * t: {t*t}\") # element wise\n",
    "print(f\"t * t: {t.multiply(t)}\") # element wise\n",
    "print(f\"t * t: {t.mul(t)}\") # element wise\n"
   ]
  },
  {
   "cell_type": "code",
   "execution_count": 45,
   "id": "cd01580f",
   "metadata": {},
   "outputs": [
    {
     "name": "stdout",
     "output_type": "stream",
     "text": [
      "Tensor t: tensor([1, 2, 3])\n",
      "t x t: 14\n",
      "t x t: 14\n",
      "t x t: 14\n"
     ]
    }
   ],
   "source": [
    "## Matrix multiplication\n",
    "t = torch.tensor([1,2,3])\n",
    "print(f\"Tensor t: {t}\")\n",
    "print(f\"t x t: {t@t}\") # dot product\n",
    "print(f\"t x t: {t.matmul(t)}\") # dot product\n",
    "print(f\"t x t: {torch.matmul(t, t)}\") # dot product\n",
    "\n"
   ]
  },
  {
   "cell_type": "code",
   "execution_count": 46,
   "id": "4846d1c4",
   "metadata": {},
   "outputs": [
    {
     "data": {
      "text/plain": [
       "14"
      ]
     },
     "execution_count": 46,
     "metadata": {},
     "output_type": "execute_result"
    }
   ],
   "source": [
    "## Matrix multiplication by hand\n",
    "result = 1*1 + 2*2 + 3*3\n",
    "result"
   ]
  },
  {
   "cell_type": "code",
   "execution_count": 47,
   "id": "8c7049b0",
   "metadata": {},
   "outputs": [
    {
     "name": "stdout",
     "output_type": "stream",
     "text": [
      "29.9 μs ± 1.16 μs per loop (mean ± std. dev. of 7 runs, 10,000 loops each)\n"
     ]
    }
   ],
   "source": [
    "%%timeit\n",
    "## Matrix multiplication by hand 2\n",
    "result = 0\n",
    "for elem in t:\n",
    "    result += elem * elem\n",
    "result"
   ]
  },
  {
   "cell_type": "code",
   "execution_count": 48,
   "id": "c06311bd",
   "metadata": {},
   "outputs": [
    {
     "name": "stdout",
     "output_type": "stream",
     "text": [
      "2.35 μs ± 121 ns per loop (mean ± std. dev. of 7 runs, 100,000 loops each)\n"
     ]
    }
   ],
   "source": [
    "%%timeit\n",
    "t.matmul(t) # vectorized version of matrix multiplication much faster than 'by hand' above."
   ]
  },
  {
   "cell_type": "markdown",
   "id": "a79d8663",
   "metadata": {},
   "source": [
    "### One of the most common errors in deep learning: shape errors"
   ]
  },
  {
   "cell_type": "code",
   "execution_count": null,
   "id": "db4665b0",
   "metadata": {},
   "outputs": [],
   "source": []
  },
  {
   "cell_type": "code",
   "execution_count": null,
   "id": "c20b8b4c",
   "metadata": {},
   "outputs": [],
   "source": []
  },
  {
   "cell_type": "code",
   "execution_count": null,
   "id": "2fe229b6",
   "metadata": {},
   "outputs": [],
   "source": []
  },
  {
   "cell_type": "code",
   "execution_count": null,
   "id": "67d34088",
   "metadata": {},
   "outputs": [],
   "source": []
  },
  {
   "cell_type": "code",
   "execution_count": null,
   "id": "9792845b",
   "metadata": {},
   "outputs": [],
   "source": []
  },
  {
   "cell_type": "code",
   "execution_count": null,
   "id": "627eb4c0",
   "metadata": {},
   "outputs": [],
   "source": []
  },
  {
   "cell_type": "code",
   "execution_count": null,
   "id": "8a4d3228",
   "metadata": {},
   "outputs": [],
   "source": []
  }
 ],
 "metadata": {
  "kernelspec": {
   "display_name": ".venv",
   "language": "python",
   "name": "python3"
  },
  "language_info": {
   "codemirror_mode": {
    "name": "ipython",
    "version": 3
   },
   "file_extension": ".py",
   "mimetype": "text/x-python",
   "name": "python",
   "nbconvert_exporter": "python",
   "pygments_lexer": "ipython3",
   "version": "3.12.10"
  }
 },
 "nbformat": 4,
 "nbformat_minor": 5
}
